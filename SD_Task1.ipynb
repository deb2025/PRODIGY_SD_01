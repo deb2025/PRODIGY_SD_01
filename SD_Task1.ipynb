{
  "nbformat": 4,
  "nbformat_minor": 0,
  "metadata": {
    "colab": {
      "provenance": []
    },
    "kernelspec": {
      "name": "python3",
      "display_name": "Python 3"
    },
    "language_info": {
      "name": "python"
    }
  },
  "cells": [
    {
      "cell_type": "code",
      "execution_count": 1,
      "metadata": {
        "colab": {
          "base_uri": "https://localhost:8080/"
        },
        "id": "G5dYwOhVGxIm",
        "outputId": "f3c05d94-7b50-4c51-868b-48a230c1cbf4"
      },
      "outputs": [
        {
          "output_type": "stream",
          "name": "stdout",
          "text": [
            "Enter temperature in Celsius: 45\n",
            "45.0 degrees Celsius is equal to 113.0 degrees Fahrenheit.\n"
          ]
        }
      ],
      "source": [
        "# Function to convert Celsius to Fahrenheit\n",
        "def celsius_to_fahrenheit(celsius):\n",
        "    fahrenheit = (celsius * 9/5) + 32\n",
        "    return fahrenheit\n",
        "\n",
        "# Input temperature in Celsius\n",
        "celsius = float(input(\"Enter temperature in Celsius: \"))\n",
        "\n",
        "# Call the function to perform the conversion\n",
        "fahrenheit = celsius_to_fahrenheit(celsius)\n",
        "\n",
        "# Display the result\n",
        "print(f\"{celsius} degrees Celsius is equal to {fahrenheit} degrees Fahrenheit.\")\n"
      ]
    }
  ]
}